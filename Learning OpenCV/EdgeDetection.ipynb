{
 "cells": [
  {
   "cell_type": "code",
   "id": "initial_id",
   "metadata": {
    "collapsed": true,
    "ExecuteTime": {
     "end_time": "2025-09-21T10:28:39.859226Z",
     "start_time": "2025-09-21T10:28:38.611843Z"
    }
   },
   "source": "import cv2",
   "outputs": [],
   "execution_count": 1
  },
  {
   "metadata": {
    "ExecuteTime": {
     "end_time": "2025-09-21T10:29:08.506104Z",
     "start_time": "2025-09-21T10:29:08.482105Z"
    }
   },
   "cell_type": "code",
   "source": "image = cv2.imread(\"..\\\\Datasets\\\\Images\\\\img3.jpeg\")",
   "id": "5d70db40381d944",
   "outputs": [],
   "execution_count": 2
  },
  {
   "metadata": {
    "ExecuteTime": {
     "end_time": "2025-09-21T10:30:54.477692Z",
     "start_time": "2025-09-21T10:30:45.350005Z"
    }
   },
   "cell_type": "code",
   "source": [
    "cv2.imshow('image', image)\n",
    "cv2.waitKey(0)\n",
    "cv2.destroyAllWindows()"
   ],
   "id": "58e05c3071e06a0c",
   "outputs": [],
   "execution_count": 7
  },
  {
   "metadata": {
    "ExecuteTime": {
     "end_time": "2025-09-21T10:31:18.679119Z",
     "start_time": "2025-09-21T10:31:18.660699Z"
    }
   },
   "cell_type": "code",
   "source": "sobel_x = cv2.Sobel(image, ddepth = cv2.CV_64F, dx = 1, dy = 0)",
   "id": "160cca4a5587a65",
   "outputs": [],
   "execution_count": 9
  },
  {
   "metadata": {
    "ExecuteTime": {
     "end_time": "2025-09-21T10:31:23.872413Z",
     "start_time": "2025-09-21T10:31:19.275226Z"
    }
   },
   "cell_type": "code",
   "source": [
    "cv2.imshow('image', sobel_x)\n",
    "cv2.waitKey(0)\n",
    "cv2.destroyAllWindows()"
   ],
   "id": "1b0d77339ad92665",
   "outputs": [],
   "execution_count": 10
  },
  {
   "metadata": {
    "ExecuteTime": {
     "end_time": "2025-09-21T10:31:45.917512Z",
     "start_time": "2025-09-21T10:31:45.884426Z"
    }
   },
   "cell_type": "code",
   "source": "sobel_y = cv2.Sobel(image, ddepth = cv2.CV_64F, dx = 0, dy = 1)",
   "id": "e25192f4c1c9d3db",
   "outputs": [],
   "execution_count": 11
  },
  {
   "metadata": {
    "ExecuteTime": {
     "end_time": "2025-09-21T10:32:09.024503Z",
     "start_time": "2025-09-21T10:32:06.170281Z"
    }
   },
   "cell_type": "code",
   "source": [
    "cv2.imshow('image', sobel_y)\n",
    "cv2.waitKey(0)\n",
    "cv2.destroyAllWindows()"
   ],
   "id": "580b0080519f3801",
   "outputs": [],
   "execution_count": 12
  }
 ],
 "metadata": {
  "kernelspec": {
   "display_name": "Python 3",
   "language": "python",
   "name": "python3"
  },
  "language_info": {
   "codemirror_mode": {
    "name": "ipython",
    "version": 2
   },
   "file_extension": ".py",
   "mimetype": "text/x-python",
   "name": "python",
   "nbconvert_exporter": "python",
   "pygments_lexer": "ipython2",
   "version": "2.7.6"
  }
 },
 "nbformat": 4,
 "nbformat_minor": 5
}
