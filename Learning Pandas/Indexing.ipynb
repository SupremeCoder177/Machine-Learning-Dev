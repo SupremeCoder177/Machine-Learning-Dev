{
 "cells": [
  {
   "cell_type": "code",
   "id": "initial_id",
   "metadata": {
    "collapsed": true,
    "ExecuteTime": {
     "end_time": "2025-09-18T22:15:06.875591Z",
     "start_time": "2025-09-18T22:15:05.925433Z"
    }
   },
   "source": "import pandas as pd",
   "outputs": [],
   "execution_count": 1
  },
  {
   "metadata": {
    "ExecuteTime": {
     "end_time": "2025-09-18T22:15:47.283719Z",
     "start_time": "2025-09-18T22:15:47.125324Z"
    }
   },
   "cell_type": "code",
   "source": [
    "# loading a csv file\n",
    "data = pd.read_csv(\"F:\\\\Machine Learning\\\\Datasets\\\\CSV Files\\\\Covid-19\\\\countries-aggregated.csv\")"
   ],
   "id": "7f4213603ad10c95",
   "outputs": [],
   "execution_count": 3
  },
  {
   "metadata": {
    "ExecuteTime": {
     "end_time": "2025-09-18T22:18:16.237397Z",
     "start_time": "2025-09-18T22:18:16.228107Z"
    }
   },
   "cell_type": "code",
   "source": [
    "\"\"\"\n",
    "When we index by a row, the output is in the form of a table\n",
    "where the rows of the table represent the column heading of the original table\n",
    "and the column heading represents the row\n",
    "\n",
    "Yeah its a bit confusing at first but play around a bit and then you will understand\n",
    "\"\"\"\n",
    "\n",
    "# indexing by row\n",
    "data.loc[1234] # returns a table with the contents at row 1234"
   ],
   "id": "605f5fa8455aee8c",
   "outputs": [
    {
     "data": {
      "text/plain": [
       "Date         2021-03-15\n",
       "Country         Albania\n",
       "Confirmed        118017\n",
       "Recovered         81061\n",
       "Deaths             2060\n",
       "Name: 1234, dtype: object"
      ]
     },
     "execution_count": 7,
     "metadata": {},
     "output_type": "execute_result"
    }
   ],
   "execution_count": 7
  },
  {
   "metadata": {
    "ExecuteTime": {
     "end_time": "2025-09-18T22:18:37.464630Z",
     "start_time": "2025-09-18T22:18:37.456691Z"
    }
   },
   "cell_type": "code",
   "source": [
    "# checking the type of the outptu of row indexing\n",
    "type(data.loc[1234])"
   ],
   "id": "cf622b975b7d066b",
   "outputs": [
    {
     "data": {
      "text/plain": [
       "pandas.core.series.Series"
      ]
     },
     "execution_count": 8,
     "metadata": {},
     "output_type": "execute_result"
    }
   ],
   "execution_count": 8
  },
  {
   "metadata": {
    "ExecuteTime": {
     "end_time": "2025-09-18T22:20:17.891585Z",
     "start_time": "2025-09-18T22:20:17.878250Z"
    }
   },
   "cell_type": "code",
   "source": [
    "\"\"\"\n",
    "\n",
    "\"\"\"\n",
    "# indexing by column\n",
    "country_index = data.set_index(\"Country\")\n"
   ],
   "id": "ce296d6478e5387d",
   "outputs": [],
   "execution_count": 12
  },
  {
   "metadata": {},
   "cell_type": "code",
   "outputs": [],
   "execution_count": null,
   "source": "",
   "id": "5d0958c3a7b5e419"
  }
 ],
 "metadata": {
  "kernelspec": {
   "display_name": "Python 3",
   "language": "python",
   "name": "python3"
  },
  "language_info": {
   "codemirror_mode": {
    "name": "ipython",
    "version": 2
   },
   "file_extension": ".py",
   "mimetype": "text/x-python",
   "name": "python",
   "nbconvert_exporter": "python",
   "pygments_lexer": "ipython2",
   "version": "2.7.6"
  }
 },
 "nbformat": 4,
 "nbformat_minor": 5
}
