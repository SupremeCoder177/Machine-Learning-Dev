{
 "cells": [
  {
   "cell_type": "code",
   "id": "initial_id",
   "metadata": {
    "collapsed": true,
    "ExecuteTime": {
     "end_time": "2025-09-18T22:11:44.434564Z",
     "start_time": "2025-09-18T22:11:44.429713Z"
    }
   },
   "source": "import pandas as pd",
   "outputs": [],
   "execution_count": 26
  },
  {
   "metadata": {
    "ExecuteTime": {
     "end_time": "2025-09-18T22:11:45.046192Z",
     "start_time": "2025-09-18T22:11:44.925191Z"
    }
   },
   "cell_type": "code",
   "source": [
    "# reading a csv file\n",
    "countries_covid_csv = pd.read_csv(\"F:\\\\Machine Learning\\\\Datasets\\\\CSV Files\\\\Covid-19\\\\countries-aggregated.csv\")"
   ],
   "id": "4340886fecb3a0c",
   "outputs": [],
   "execution_count": 27
  },
  {
   "metadata": {
    "ExecuteTime": {
     "end_time": "2025-09-18T22:11:45.644059Z",
     "start_time": "2025-09-18T22:11:45.628167Z"
    }
   },
   "cell_type": "code",
   "source": "countries_covid_csv",
   "id": "700529e7feaeec1f",
   "outputs": [
    {
     "data": {
      "text/plain": [
       "              Date      Country  Confirmed  Recovered  Deaths\n",
       "0       2020-01-22  Afghanistan          0          0       0\n",
       "1       2020-01-23  Afghanistan          0          0       0\n",
       "2       2020-01-24  Afghanistan          0          0       0\n",
       "3       2020-01-25  Afghanistan          0          0       0\n",
       "4       2020-01-26  Afghanistan          0          0       0\n",
       "...            ...          ...        ...        ...     ...\n",
       "161563  2022-04-12     Zimbabwe     247094          0    5460\n",
       "161564  2022-04-13     Zimbabwe     247160          0    5460\n",
       "161565  2022-04-14     Zimbabwe     247208          0    5462\n",
       "161566  2022-04-15     Zimbabwe     247237          0    5462\n",
       "161567  2022-04-16     Zimbabwe     247237          0    5462\n",
       "\n",
       "[161568 rows x 5 columns]"
      ],
      "text/html": [
       "<div>\n",
       "<style scoped>\n",
       "    .dataframe tbody tr th:only-of-type {\n",
       "        vertical-align: middle;\n",
       "    }\n",
       "\n",
       "    .dataframe tbody tr th {\n",
       "        vertical-align: top;\n",
       "    }\n",
       "\n",
       "    .dataframe thead th {\n",
       "        text-align: right;\n",
       "    }\n",
       "</style>\n",
       "<table border=\"1\" class=\"dataframe\">\n",
       "  <thead>\n",
       "    <tr style=\"text-align: right;\">\n",
       "      <th></th>\n",
       "      <th>Date</th>\n",
       "      <th>Country</th>\n",
       "      <th>Confirmed</th>\n",
       "      <th>Recovered</th>\n",
       "      <th>Deaths</th>\n",
       "    </tr>\n",
       "  </thead>\n",
       "  <tbody>\n",
       "    <tr>\n",
       "      <th>0</th>\n",
       "      <td>2020-01-22</td>\n",
       "      <td>Afghanistan</td>\n",
       "      <td>0</td>\n",
       "      <td>0</td>\n",
       "      <td>0</td>\n",
       "    </tr>\n",
       "    <tr>\n",
       "      <th>1</th>\n",
       "      <td>2020-01-23</td>\n",
       "      <td>Afghanistan</td>\n",
       "      <td>0</td>\n",
       "      <td>0</td>\n",
       "      <td>0</td>\n",
       "    </tr>\n",
       "    <tr>\n",
       "      <th>2</th>\n",
       "      <td>2020-01-24</td>\n",
       "      <td>Afghanistan</td>\n",
       "      <td>0</td>\n",
       "      <td>0</td>\n",
       "      <td>0</td>\n",
       "    </tr>\n",
       "    <tr>\n",
       "      <th>3</th>\n",
       "      <td>2020-01-25</td>\n",
       "      <td>Afghanistan</td>\n",
       "      <td>0</td>\n",
       "      <td>0</td>\n",
       "      <td>0</td>\n",
       "    </tr>\n",
       "    <tr>\n",
       "      <th>4</th>\n",
       "      <td>2020-01-26</td>\n",
       "      <td>Afghanistan</td>\n",
       "      <td>0</td>\n",
       "      <td>0</td>\n",
       "      <td>0</td>\n",
       "    </tr>\n",
       "    <tr>\n",
       "      <th>...</th>\n",
       "      <td>...</td>\n",
       "      <td>...</td>\n",
       "      <td>...</td>\n",
       "      <td>...</td>\n",
       "      <td>...</td>\n",
       "    </tr>\n",
       "    <tr>\n",
       "      <th>161563</th>\n",
       "      <td>2022-04-12</td>\n",
       "      <td>Zimbabwe</td>\n",
       "      <td>247094</td>\n",
       "      <td>0</td>\n",
       "      <td>5460</td>\n",
       "    </tr>\n",
       "    <tr>\n",
       "      <th>161564</th>\n",
       "      <td>2022-04-13</td>\n",
       "      <td>Zimbabwe</td>\n",
       "      <td>247160</td>\n",
       "      <td>0</td>\n",
       "      <td>5460</td>\n",
       "    </tr>\n",
       "    <tr>\n",
       "      <th>161565</th>\n",
       "      <td>2022-04-14</td>\n",
       "      <td>Zimbabwe</td>\n",
       "      <td>247208</td>\n",
       "      <td>0</td>\n",
       "      <td>5462</td>\n",
       "    </tr>\n",
       "    <tr>\n",
       "      <th>161566</th>\n",
       "      <td>2022-04-15</td>\n",
       "      <td>Zimbabwe</td>\n",
       "      <td>247237</td>\n",
       "      <td>0</td>\n",
       "      <td>5462</td>\n",
       "    </tr>\n",
       "    <tr>\n",
       "      <th>161567</th>\n",
       "      <td>2022-04-16</td>\n",
       "      <td>Zimbabwe</td>\n",
       "      <td>247237</td>\n",
       "      <td>0</td>\n",
       "      <td>5462</td>\n",
       "    </tr>\n",
       "  </tbody>\n",
       "</table>\n",
       "<p>161568 rows × 5 columns</p>\n",
       "</div>"
      ]
     },
     "execution_count": 28,
     "metadata": {},
     "output_type": "execute_result"
    }
   ],
   "execution_count": 28
  },
  {
   "metadata": {
    "ExecuteTime": {
     "end_time": "2025-09-18T22:11:47.213459Z",
     "start_time": "2025-09-18T22:11:46.875181Z"
    }
   },
   "cell_type": "code",
   "source": [
    "# converting the Date series in the dataframe to a datatime format series\n",
    "countries_covid_date = pd.to_datetime(countries_covid_csv[\"Date\"])"
   ],
   "id": "eaf30d0562c50808",
   "outputs": [],
   "execution_count": 29
  },
  {
   "metadata": {
    "ExecuteTime": {
     "end_time": "2025-09-18T22:11:47.529430Z",
     "start_time": "2025-09-18T22:11:47.518461Z"
    }
   },
   "cell_type": "code",
   "source": "countries_covid_date",
   "id": "aab22abf461b5c23",
   "outputs": [
    {
     "data": {
      "text/plain": [
       "0        2020-01-22\n",
       "1        2020-01-23\n",
       "2        2020-01-24\n",
       "3        2020-01-25\n",
       "4        2020-01-26\n",
       "            ...    \n",
       "161563   2022-04-12\n",
       "161564   2022-04-13\n",
       "161565   2022-04-14\n",
       "161566   2022-04-15\n",
       "161567   2022-04-16\n",
       "Name: Date, Length: 161568, dtype: datetime64[ns]"
      ]
     },
     "execution_count": 30,
     "metadata": {},
     "output_type": "execute_result"
    }
   ],
   "execution_count": 30
  },
  {
   "metadata": {
    "ExecuteTime": {
     "end_time": "2025-09-18T22:11:48.395070Z",
     "start_time": "2025-09-18T22:11:48.371532Z"
    }
   },
   "cell_type": "code",
   "source": [
    "# reading how many unique values are there in the data in the column \"country\"\n",
    "countries_covid_csv[\"Country\"].nunique()"
   ],
   "id": "81eb60dd10facfd0",
   "outputs": [
    {
     "data": {
      "text/plain": [
       "198"
      ]
     },
     "execution_count": 31,
     "metadata": {},
     "output_type": "execute_result"
    }
   ],
   "execution_count": 31
  },
  {
   "metadata": {},
   "cell_type": "code",
   "outputs": [],
   "execution_count": null,
   "source": "",
   "id": "15362aa3f7f60a10"
  }
 ],
 "metadata": {
  "kernelspec": {
   "display_name": "Python 3",
   "language": "python",
   "name": "python3"
  },
  "language_info": {
   "codemirror_mode": {
    "name": "ipython",
    "version": 2
   },
   "file_extension": ".py",
   "mimetype": "text/x-python",
   "name": "python",
   "nbconvert_exporter": "python",
   "pygments_lexer": "ipython2",
   "version": "2.7.6"
  }
 },
 "nbformat": 4,
 "nbformat_minor": 5
}
